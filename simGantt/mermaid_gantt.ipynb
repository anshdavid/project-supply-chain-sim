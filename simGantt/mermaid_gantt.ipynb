{
 "cells": [
  {
   "cell_type": "code",
   "execution_count": 17,
   "metadata": {},
   "outputs": [],
   "source": [
    "import base64\n",
    "import webbrowser\n",
    "import matplotlib.pyplot as plt\n",
    "\n",
    "def mm(graph):\n",
    "    graphbytes = graph.encode(\"utf8\")\n",
    "    base64_bytes = base64.urlsafe_b64encode(graphbytes)\n",
    "    base64_string = base64_bytes.decode(\"ascii\")\n",
    "    url=\"https://mermaid.ink/img/\" + base64_string\n",
    "    print(url)\n",
    "    webbrowser.open(\"https://mermaid.ink/img/\" + base64_string)"
   ]
  },
  {
   "cell_type": "code",
   "execution_count": 18,
   "metadata": {},
   "outputs": [
    {
     "name": "stdout",
     "output_type": "stream",
     "text": [
      "https://mermaid.ink/img/CiUle2luaXQ6IHsgJ3RoZW1lJzogJ2ZvcmVzdCcsICdnYW50dCcgOiB7ICdkaXNwbGF5TW9kZSc6ICdjb21wYWN0JyB9IH0gfSUlCmdhbnR0CmRhdGVGb3JtYXQgIFlZWVktTU0tREQKdGl0bGUgICAgICAgR0FOTlQKCnNlY3Rpb24gc2VjdGlvbjEKdzEgICA6ZG9uZSwgdzEsIDIwMjItMTEtMDEsIDIwMjItMTEtMDYKdzEgICA6ZG9uZSwgdzIsIGFmdGVyIHcxLCAyZAp3MyAgOmRvbmUsIHczLCBhZnRlciB3MiwgMjAyMi0xMS0yMwptMSA6bWlsZXN0b25lLCBtMSwgMjAyMi0xMS0yMyAsIDBkCnc0IDphY3RpdmUsIHc0LCBhZnRlciB3MiwgMjAyMi0xMS0yNwp3NSA6dzUsIGFmdGVyIHc0LCAzZAp3NiA6dzYsIGFmdGVyIHc1LCAyZAoKc2VjdGlvbiBzZWN0aW9uMgpjMSAgIDpjMSwgMjAyMy0wMS0xNiwgMjAyMy0wMS0yOAoKc2VjdGlvbiBzZWN0aW9uMwpkcDEgICA6YWN0aXZlLCBkcDEsIDIwMjItMTEtMDEsIDIwMjItMTEtMjUKZHAyICAgOmRwMiwgYWZ0ZXIgdzYgZHAxLCAyMDIyLTEyLTIzCmRwMyAgIDpkcDMsIDIwMjMtMDEtMTYsIDIwMjMtMDMtMzEKbTIgICAgOm1pbGVzdG9uZSwgbTIsIDIwMjMtMDMtMzEsIDBkCmRwNCAgIDphY3RpdmUsIGRwNCwgMjAyMi0xMS0wMSwgMjAyMy0wMy0zMQpkcDEgICA6YWN0aXZlLCBkcDEsIDIwMjItMTEtMDEsIDIwMjItMTEtMjUKZHAyICAgOmRwMiwgYWZ0ZXIgdzYgZHAxLCAyMDIyLTEyLTIzCmRwMyAgIDpkcDMsIDIwMjMtMDEtMTYsIDIwMjMtMDMtMzEKbTIgICAgOm1pbGVzdG9uZSwgbTIsIDIwMjMtMDMtMzEsIDBkCmRwNCAgIDphY3RpdmUsIGRwNCwgMjAyMi0xMS0wMSwgMjAyMy0wMy0zMQpkcDEgICA6YWN0aXZlLCBkcDEsIDIwMjItMTEtMDEsIDIwMjItMTEtMjUKZHAyICAgOmRwMiwgYWZ0ZXIgdzYgZHAxLCAyMDIyLTEyLTIzCmRwMyAgIDpkcDMsIDIwMjMtMDEtMTYsIDIwMjMtMDMtMzEKbTIgICAgOm1pbGVzdG9uZSwgbTIsIDIwMjMtMDMtMzEsIDBkCmRwNCAgIDphY3RpdmUsIGRwNCwgMjAyMi0xMS0wMSwgMjAyMy0wMy0zMQoKc2VjdGlvbiBzZWN0aW9uNAptZDEgIDptZDEsIDIwMjMtMDMtMDEsIDIwMjMtMDMtMzEK\n"
     ]
    }
   ],
   "source": [
    "mm(\"\"\"\n",
    "%%{init: { 'theme': 'forest', 'gantt' : { 'displayMode': 'compact' } } }%%\n",
    "gantt\n",
    "dateFormat  YYYY-MM-DD\n",
    "title       GANNT\n",
    "\n",
    "section section1\n",
    "w1   :done, w1, 2022-11-01, 2022-11-06\n",
    "w1   :done, w2, after w1, 2d\n",
    "w3  :done, w3, after w2, 2022-11-23\n",
    "m1 :milestone, m1, 2022-11-23 , 0d\n",
    "w4 :active, w4, after w2, 2022-11-27\n",
    "w5 :w5, after w4, 3d\n",
    "w6 :w6, after w5, 2d\n",
    "\n",
    "section section2\n",
    "c1   :c1, 2023-01-16, 2023-01-28\n",
    "\n",
    "section section3\n",
    "dp1   :active, dp1, 2022-11-01, 2022-11-25\n",
    "dp2   :dp2, after w6 dp1, 2022-12-23\n",
    "dp3   :dp3, 2023-01-16, 2023-03-31\n",
    "m2    :milestone, m2, 2023-03-31, 0d\n",
    "dp4   :active, dp4, 2022-11-01, 2023-03-31\n",
    "dp1   :active, dp1, 2022-11-01, 2022-11-25\n",
    "dp2   :dp2, after w6 dp1, 2022-12-23\n",
    "dp3   :dp3, 2023-01-16, 2023-03-31\n",
    "m2    :milestone, m2, 2023-03-31, 0d\n",
    "dp4   :active, dp4, 2022-11-01, 2023-03-31\n",
    "dp1   :active, dp1, 2022-11-01, 2022-11-25\n",
    "dp2   :dp2, after w6 dp1, 2022-12-23\n",
    "dp3   :dp3, 2023-01-16, 2023-03-31\n",
    "m2    :milestone, m2, 2023-03-31, 0d\n",
    "dp4   :active, dp4, 2022-11-01, 2023-03-31\n",
    "\n",
    "section section4\n",
    "md1  :md1, 2023-03-01, 2023-03-31\n",
    "\"\"\")"
   ]
  },
  {
   "cell_type": "code",
   "execution_count": 19,
   "metadata": {},
   "outputs": [
    {
     "name": "stdout",
     "output_type": "stream",
     "text": [
      "https://mermaid.ink/img/CiUle2luaXQ6IHsgJ3RoZW1lJzogJ2ZvcmVzdCcsICdnYW50dCcgOiB7ICdkaXNwbGF5TW9kZSc6ICdjb21wYWN0JyB9IH0gfSUlCmdhbnR0CiAgICB0aXRsZSBBIEdhbnR0IERpYWdyYW0KICAgIGRhdGVGb3JtYXQgIFlZWVktTU0tREQKCiAgICBzZWN0aW9uIFNlY3Rpb24KICAgIEEgdGFzayAgICAgICAgICAgOmExLCAyMDE0LTAxLTAxLCA1ZAogICAgQW5vdGhlciB0YXNrICAgICA6YTIsIDIwMTQtMDEtMjAsIDVkCiAgICBBIHRhc2sgICAgICA6YTMsIDIwMTQtMDItMTAsIDJkCg==\n"
     ]
    }
   ],
   "source": [
    "mm(\"\"\"\n",
    "%%{init: { 'theme': 'forest', 'gantt' : { 'displayMode': 'compact' } } }%%\n",
    "gantt\n",
    "    title A Gantt Diagram\n",
    "    dateFormat  YYYY-MM-DD\n",
    "\n",
    "    section Section\n",
    "    A task           :a1, 2014-01-01, 5d\n",
    "    Another task     :a2, 2014-01-20, 5d\n",
    "    A task      :a3, 2014-02-10, 2d\n",
    "\"\"\")"
   ]
  }
 ],
 "metadata": {
  "kernelspec": {
   "display_name": "venv-supply-chain-12j22i",
   "language": "python",
   "name": "python3"
  },
  "language_info": {
   "codemirror_mode": {
    "name": "ipython",
    "version": 3
   },
   "file_extension": ".py",
   "mimetype": "text/x-python",
   "name": "python",
   "nbconvert_exporter": "python",
   "pygments_lexer": "ipython3",
   "version": "3.11.7"
  }
 },
 "nbformat": 4,
 "nbformat_minor": 2
}
