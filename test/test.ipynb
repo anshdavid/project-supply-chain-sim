{
 "cells": [
  {
   "cell_type": "code",
   "execution_count": null,
   "metadata": {},
   "outputs": [],
   "source": [
    "from functools import partial, wraps\n",
    "from pprint import pprint\n",
    "import simpy"
   ]
  },
  {
   "cell_type": "code",
   "execution_count": null,
   "metadata": {},
   "outputs": [],
   "source": [
    "def trace(env: simpy.Environment, callback):\n",
    "    def get_wrapper(env_step, callback):\n",
    "        \"\"\"Generate the wrapper for env.step().\"\"\"\n",
    "\n",
    "        @wraps(env_step)\n",
    "        def tracing_step():\n",
    "            \"\"\"Call *callback* for the next event if one exist before\n",
    "            calling ``env.step()``.\"\"\"\n",
    "            if len(env._queue):\n",
    "                t, prio, eid, event = env._queue[0]\n",
    "                callback(t, prio, eid, event)\n",
    "            return env_step()\n",
    "\n",
    "        return tracing_step\n",
    "\n",
    "    env.step = get_wrapper(env.step, callback)\n",
    "\n",
    "\n",
    "def monitor(data, t, prio, eid, event):\n",
    "    data.append((t, eid, type(event)))\n",
    "\n",
    "\n",
    "def test_process1(env: simpy.Environment):\n",
    "    yield env.timeout(1)\n",
    "\n",
    "\n",
    "def test_process2(env: simpy.Environment):\n",
    "    yield env.timeout(2)\n",
    "\n",
    "\n",
    "def test_process3(env: simpy.Environment):\n",
    "    yield env.timeout(6)\n",
    "\n",
    "\n",
    "data = []\n",
    "\n",
    "monitor_binded = partial(monitor, data)\n",
    "\n",
    "env = simpy.Environment()\n",
    "trace(env, monitor_binded)\n",
    "\n",
    "p1 = env.process(test_process1(env))\n",
    "p2 = env.process(test_process2(env))\n",
    "p3 = env.process(test_process3(env))\n",
    "\n",
    "env.run(until=p1 & p2 & p3)\n",
    "\n",
    "pprint(data)\n"
   ]
  }
 ],
 "metadata": {
  "kernelspec": {
   "display_name": "venv-supply-chain-12j22i",
   "language": "python",
   "name": "python3"
  },
  "language_info": {
   "name": "python",
   "version": "3.11.7"
  }
 },
 "nbformat": 4,
 "nbformat_minor": 2
}
